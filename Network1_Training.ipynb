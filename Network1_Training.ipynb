{
 "cells": [
  {
   "cell_type": "markdown",
   "metadata": {
    "executionInfo": {
     "elapsed": 3090,
     "status": "ok",
     "timestamp": 1604156615757,
     "user": {
      "displayName": "Phan Anh Nguyen",
      "photoUrl": "",
      "userId": "14762634778281438018"
     },
     "user_tz": 240
    },
    "id": "4D6yaYbALU6b"
   },
   "source": [
    "# ECBM 4040 Final Project - Group ERP1 Notebook 1"
   ]
  },
  {
   "cell_type": "code",
   "execution_count": 4,
   "metadata": {},
   "outputs": [
    {
     "name": "stdout",
     "output_type": "stream",
     "text": [
      "Collecting opencv-python\n",
      "\u001b[?25l  Downloading https://files.pythonhosted.org/packages/98/c6/19022633bc5e3430cb6e1f2b4bdc329081fc3bedec24f30b0735796f59f8/opencv_python-4.4.0.46-cp37-cp37m-macosx_10_13_x86_64.whl (52.4MB)\n",
      "\u001b[K     |████████████████████████████████| 52.4MB 276kB/s eta 0:00:01     |█████████▋                      | 15.7MB 851kB/s eta 0:00:44\n",
      "\u001b[?25hRequirement already satisfied: numpy>=1.14.5 in /anaconda3/lib/python3.7/site-packages (from opencv-python) (1.16.4)\n",
      "Installing collected packages: opencv-python\n",
      "Successfully installed opencv-python-4.4.0.46\n"
     ]
    }
   ],
   "source": [
    "# !pip install opencv-python\n"
   ]
  },
  {
   "cell_type": "code",
   "execution_count": 4,
   "metadata": {},
   "outputs": [
    {
     "name": "stdout",
     "output_type": "stream",
     "text": [
      "Requirement already satisfied: imgaug in /home/ecbm4040/anaconda3/lib/python3.7/site-packages (0.4.0)\n",
      "Requirement already satisfied: six in /home/ecbm4040/anaconda3/lib/python3.7/site-packages (from imgaug) (1.14.0)\n",
      "Requirement already satisfied: scipy in /home/ecbm4040/anaconda3/lib/python3.7/site-packages (from imgaug) (1.4.1)\n",
      "Requirement already satisfied: scikit-image>=0.14.2 in /home/ecbm4040/anaconda3/lib/python3.7/site-packages (from imgaug) (0.16.2)\n",
      "Requirement already satisfied: Pillow in /home/ecbm4040/anaconda3/lib/python3.7/site-packages (from imgaug) (7.0.0)\n",
      "Requirement already satisfied: matplotlib in /home/ecbm4040/anaconda3/lib/python3.7/site-packages (from imgaug) (3.1.3)\n",
      "Requirement already satisfied: imageio in /home/ecbm4040/anaconda3/lib/python3.7/site-packages (from imgaug) (2.6.1)\n",
      "Requirement already satisfied: numpy>=1.15 in /home/ecbm4040/anaconda3/lib/python3.7/site-packages (from imgaug) (1.18.1)\n",
      "Requirement already satisfied: opencv-python in /home/ecbm4040/anaconda3/lib/python3.7/site-packages (from imgaug) (4.4.0.46)\n",
      "Requirement already satisfied: Shapely in /home/ecbm4040/anaconda3/lib/python3.7/site-packages (from imgaug) (1.7.1)\n",
      "Requirement already satisfied: networkx>=2.0 in /home/ecbm4040/anaconda3/lib/python3.7/site-packages (from scikit-image>=0.14.2->imgaug) (2.4)\n",
      "Requirement already satisfied: PyWavelets>=0.4.0 in /home/ecbm4040/anaconda3/lib/python3.7/site-packages (from scikit-image>=0.14.2->imgaug) (1.1.1)\n",
      "Requirement already satisfied: cycler>=0.10 in /home/ecbm4040/anaconda3/lib/python3.7/site-packages (from matplotlib->imgaug) (0.10.0)\n",
      "Requirement already satisfied: kiwisolver>=1.0.1 in /home/ecbm4040/anaconda3/lib/python3.7/site-packages (from matplotlib->imgaug) (1.1.0)\n",
      "Requirement already satisfied: python-dateutil>=2.1 in /home/ecbm4040/anaconda3/lib/python3.7/site-packages (from matplotlib->imgaug) (2.8.1)\n",
      "Requirement already satisfied: pyparsing!=2.0.4,!=2.1.2,!=2.1.6,>=2.0.1 in /home/ecbm4040/anaconda3/lib/python3.7/site-packages (from matplotlib->imgaug) (2.4.6)\n",
      "Requirement already satisfied: decorator>=4.3.0 in /home/ecbm4040/anaconda3/lib/python3.7/site-packages (from networkx>=2.0->scikit-image>=0.14.2->imgaug) (4.4.1)\n",
      "Requirement already satisfied: setuptools in /home/ecbm4040/anaconda3/lib/python3.7/site-packages (from kiwisolver>=1.0.1->matplotlib->imgaug) (45.2.0.post20200210)\n"
     ]
    }
   ],
   "source": [
    " !pip install imgaug"
   ]
  },
  {
   "cell_type": "code",
   "execution_count": 1,
   "metadata": {},
   "outputs": [],
   "source": [
    "import sys\n",
    "import os\n",
    "from PIL import Image\n",
    "\n",
    "import numpy as np\n",
    "import sklearn\n",
    "import tensorflow as tf\n",
    "import tensorflow.keras\n",
    "from keras.models import load_model\n",
    "from tensorflow.keras.preprocessing import image\n",
    "from tensorflow.keras.preprocessing.image import ImageDataGenerator\n",
    "\n",
    "from tensorflow.keras.optimizers import Adam\n",
    "\n",
    "import matplotlib.pyplot as plt\n",
    "import matplotlib.image as mpimg\n",
    "import cv2\n",
    "import numpy as np\n",
    "import pandas as pd\n",
    "from utils.helper_funcs import spaceToDepth\n",
    "\n",
    "from sklearn.model_selection import train_test_split\n",
    "\n",
    "from imgaug import augmenters as iaa\n"
   ]
  },
  {
   "cell_type": "code",
   "execution_count": 2,
   "metadata": {},
   "outputs": [
    {
     "name": "stdout",
     "output_type": "stream",
     "text": [
      "2.3.1\n"
     ]
    }
   ],
   "source": [
    "print(tf.__version__)"
   ]
  },
  {
   "cell_type": "markdown",
   "metadata": {},
   "source": [
    "# Preprocessing and Dataset Generation"
   ]
  },
  {
   "cell_type": "code",
   "execution_count": 3,
   "metadata": {},
   "outputs": [
    {
     "name": "stdout",
     "output_type": "stream",
     "text": [
      "Found 100000 images belonging to 200 classes.\n",
      "{'n01443537': 0, 'n01629819': 1, 'n01641577': 2, 'n01644900': 3, 'n01698640': 4, 'n01742172': 5, 'n01768244': 6, 'n01770393': 7, 'n01774384': 8, 'n01774750': 9, 'n01784675': 10, 'n01855672': 11, 'n01882714': 12, 'n01910747': 13, 'n01917289': 14, 'n01944390': 15, 'n01945685': 16, 'n01950731': 17, 'n01983481': 18, 'n01984695': 19, 'n02002724': 20, 'n02056570': 21, 'n02058221': 22, 'n02074367': 23, 'n02085620': 24, 'n02094433': 25, 'n02099601': 26, 'n02099712': 27, 'n02106662': 28, 'n02113799': 29, 'n02123045': 30, 'n02123394': 31, 'n02124075': 32, 'n02125311': 33, 'n02129165': 34, 'n02132136': 35, 'n02165456': 36, 'n02190166': 37, 'n02206856': 38, 'n02226429': 39, 'n02231487': 40, 'n02233338': 41, 'n02236044': 42, 'n02268443': 43, 'n02279972': 44, 'n02281406': 45, 'n02321529': 46, 'n02364673': 47, 'n02395406': 48, 'n02403003': 49, 'n02410509': 50, 'n02415577': 51, 'n02423022': 52, 'n02437312': 53, 'n02480495': 54, 'n02481823': 55, 'n02486410': 56, 'n02504458': 57, 'n02509815': 58, 'n02666196': 59, 'n02669723': 60, 'n02699494': 61, 'n02730930': 62, 'n02769748': 63, 'n02788148': 64, 'n02791270': 65, 'n02793495': 66, 'n02795169': 67, 'n02802426': 68, 'n02808440': 69, 'n02814533': 70, 'n02814860': 71, 'n02815834': 72, 'n02823428': 73, 'n02837789': 74, 'n02841315': 75, 'n02843684': 76, 'n02883205': 77, 'n02892201': 78, 'n02906734': 79, 'n02909870': 80, 'n02917067': 81, 'n02927161': 82, 'n02948072': 83, 'n02950826': 84, 'n02963159': 85, 'n02977058': 86, 'n02988304': 87, 'n02999410': 88, 'n03014705': 89, 'n03026506': 90, 'n03042490': 91, 'n03085013': 92, 'n03089624': 93, 'n03100240': 94, 'n03126707': 95, 'n03160309': 96, 'n03179701': 97, 'n03201208': 98, 'n03250847': 99, 'n03255030': 100, 'n03355925': 101, 'n03388043': 102, 'n03393912': 103, 'n03400231': 104, 'n03404251': 105, 'n03424325': 106, 'n03444034': 107, 'n03447447': 108, 'n03544143': 109, 'n03584254': 110, 'n03599486': 111, 'n03617480': 112, 'n03637318': 113, 'n03649909': 114, 'n03662601': 115, 'n03670208': 116, 'n03706229': 117, 'n03733131': 118, 'n03763968': 119, 'n03770439': 120, 'n03796401': 121, 'n03804744': 122, 'n03814639': 123, 'n03837869': 124, 'n03838899': 125, 'n03854065': 126, 'n03891332': 127, 'n03902125': 128, 'n03930313': 129, 'n03937543': 130, 'n03970156': 131, 'n03976657': 132, 'n03977966': 133, 'n03980874': 134, 'n03983396': 135, 'n03992509': 136, 'n04008634': 137, 'n04023962': 138, 'n04067472': 139, 'n04070727': 140, 'n04074963': 141, 'n04099969': 142, 'n04118538': 143, 'n04133789': 144, 'n04146614': 145, 'n04149813': 146, 'n04179913': 147, 'n04251144': 148, 'n04254777': 149, 'n04259630': 150, 'n04265275': 151, 'n04275548': 152, 'n04285008': 153, 'n04311004': 154, 'n04328186': 155, 'n04356056': 156, 'n04366367': 157, 'n04371430': 158, 'n04376876': 159, 'n04398044': 160, 'n04399382': 161, 'n04417672': 162, 'n04456115': 163, 'n04465501': 164, 'n04486054': 165, 'n04487081': 166, 'n04501370': 167, 'n04507155': 168, 'n04532106': 169, 'n04532670': 170, 'n04540053': 171, 'n04560804': 172, 'n04562935': 173, 'n04596742': 174, 'n04597913': 175, 'n06596364': 176, 'n07579787': 177, 'n07583066': 178, 'n07614500': 179, 'n07615774': 180, 'n07695742': 181, 'n07711569': 182, 'n07715103': 183, 'n07720875': 184, 'n07734744': 185, 'n07747607': 186, 'n07749582': 187, 'n07753592': 188, 'n07768694': 189, 'n07871810': 190, 'n07873807': 191, 'n07875152': 192, 'n07920052': 193, 'n09193705': 194, 'n09246464': 195, 'n09256479': 196, 'n09332890': 197, 'n09428293': 198, 'n12267677': 199}\n"
     ]
    }
   ],
   "source": [
    "# Load Train and val data. Similar to HW2, task 4, we used Keras ImageDataGenerator class to load train generator\n",
    "\n",
    "# Subfolder structure of TinyImagenet dataset contains images sorted into respective classes\n",
    "# This allows us to easily call 'flow_from_directory', and directly apply preprocessing via keras datagenerator\n",
    "train_datagen = ImageDataGenerator(rescale=1/255.0)\n",
    "train_generator = train_datagen.flow_from_directory('./tiny-imagenet-200/train', target_size=(32, 32), batch_size = 256, shuffle=True)\n",
    "classes_lookup = train_generator.class_indices\n",
    "print(classes_lookup)"
   ]
  },
  {
   "cell_type": "code",
   "execution_count": 4,
   "metadata": {},
   "outputs": [
    {
     "name": "stdout",
     "output_type": "stream",
     "text": [
      "Found 10000 validated image filenames belonging to 200 classes.\n",
      "{'n01443537': 0, 'n01629819': 1, 'n01641577': 2, 'n01644900': 3, 'n01698640': 4, 'n01742172': 5, 'n01768244': 6, 'n01770393': 7, 'n01774384': 8, 'n01774750': 9, 'n01784675': 10, 'n01855672': 11, 'n01882714': 12, 'n01910747': 13, 'n01917289': 14, 'n01944390': 15, 'n01945685': 16, 'n01950731': 17, 'n01983481': 18, 'n01984695': 19, 'n02002724': 20, 'n02056570': 21, 'n02058221': 22, 'n02074367': 23, 'n02085620': 24, 'n02094433': 25, 'n02099601': 26, 'n02099712': 27, 'n02106662': 28, 'n02113799': 29, 'n02123045': 30, 'n02123394': 31, 'n02124075': 32, 'n02125311': 33, 'n02129165': 34, 'n02132136': 35, 'n02165456': 36, 'n02190166': 37, 'n02206856': 38, 'n02226429': 39, 'n02231487': 40, 'n02233338': 41, 'n02236044': 42, 'n02268443': 43, 'n02279972': 44, 'n02281406': 45, 'n02321529': 46, 'n02364673': 47, 'n02395406': 48, 'n02403003': 49, 'n02410509': 50, 'n02415577': 51, 'n02423022': 52, 'n02437312': 53, 'n02480495': 54, 'n02481823': 55, 'n02486410': 56, 'n02504458': 57, 'n02509815': 58, 'n02666196': 59, 'n02669723': 60, 'n02699494': 61, 'n02730930': 62, 'n02769748': 63, 'n02788148': 64, 'n02791270': 65, 'n02793495': 66, 'n02795169': 67, 'n02802426': 68, 'n02808440': 69, 'n02814533': 70, 'n02814860': 71, 'n02815834': 72, 'n02823428': 73, 'n02837789': 74, 'n02841315': 75, 'n02843684': 76, 'n02883205': 77, 'n02892201': 78, 'n02906734': 79, 'n02909870': 80, 'n02917067': 81, 'n02927161': 82, 'n02948072': 83, 'n02950826': 84, 'n02963159': 85, 'n02977058': 86, 'n02988304': 87, 'n02999410': 88, 'n03014705': 89, 'n03026506': 90, 'n03042490': 91, 'n03085013': 92, 'n03089624': 93, 'n03100240': 94, 'n03126707': 95, 'n03160309': 96, 'n03179701': 97, 'n03201208': 98, 'n03250847': 99, 'n03255030': 100, 'n03355925': 101, 'n03388043': 102, 'n03393912': 103, 'n03400231': 104, 'n03404251': 105, 'n03424325': 106, 'n03444034': 107, 'n03447447': 108, 'n03544143': 109, 'n03584254': 110, 'n03599486': 111, 'n03617480': 112, 'n03637318': 113, 'n03649909': 114, 'n03662601': 115, 'n03670208': 116, 'n03706229': 117, 'n03733131': 118, 'n03763968': 119, 'n03770439': 120, 'n03796401': 121, 'n03804744': 122, 'n03814639': 123, 'n03837869': 124, 'n03838899': 125, 'n03854065': 126, 'n03891332': 127, 'n03902125': 128, 'n03930313': 129, 'n03937543': 130, 'n03970156': 131, 'n03976657': 132, 'n03977966': 133, 'n03980874': 134, 'n03983396': 135, 'n03992509': 136, 'n04008634': 137, 'n04023962': 138, 'n04067472': 139, 'n04070727': 140, 'n04074963': 141, 'n04099969': 142, 'n04118538': 143, 'n04133789': 144, 'n04146614': 145, 'n04149813': 146, 'n04179913': 147, 'n04251144': 148, 'n04254777': 149, 'n04259630': 150, 'n04265275': 151, 'n04275548': 152, 'n04285008': 153, 'n04311004': 154, 'n04328186': 155, 'n04356056': 156, 'n04366367': 157, 'n04371430': 158, 'n04376876': 159, 'n04398044': 160, 'n04399382': 161, 'n04417672': 162, 'n04456115': 163, 'n04465501': 164, 'n04486054': 165, 'n04487081': 166, 'n04501370': 167, 'n04507155': 168, 'n04532106': 169, 'n04532670': 170, 'n04540053': 171, 'n04560804': 172, 'n04562935': 173, 'n04596742': 174, 'n04597913': 175, 'n06596364': 176, 'n07579787': 177, 'n07583066': 178, 'n07614500': 179, 'n07615774': 180, 'n07695742': 181, 'n07711569': 182, 'n07715103': 183, 'n07720875': 184, 'n07734744': 185, 'n07747607': 186, 'n07749582': 187, 'n07753592': 188, 'n07768694': 189, 'n07871810': 190, 'n07873807': 191, 'n07875152': 192, 'n07920052': 193, 'n09193705': 194, 'n09246464': 195, 'n09256479': 196, 'n09332890': 197, 'n09428293': 198, 'n12267677': 199}\n"
     ]
    }
   ],
   "source": [
    "val_data = pd.read_csv('./tiny-imagenet-200/val/val_annotations.txt', sep='\\t', header=None, names=['Img', 'Label', 'X', 'Y', 'H', 'W'])\n",
    "val_data.drop(['X', 'Y', 'H', 'W'], axis=1, inplace=True)\n",
    "val_data.head(3)\n",
    "valid_datagen = ImageDataGenerator(rescale=1/255.0)\n",
    "validation_generator = valid_datagen.flow_from_dataframe(val_data, directory='./tiny-imagenet-200/val/images/', x_col='Img', y_col='Label', batch_size=256, shuffle=True, class_mode='categorical', target_size=(64, 64))\n",
    "print(validation_generator.class_indices)"
   ]
  },
  {
   "cell_type": "markdown",
   "metadata": {},
   "source": [
    "# Network 1 Architecture"
   ]
  },
  {
   "cell_type": "code",
   "execution_count": 5,
   "metadata": {},
   "outputs": [
    {
     "name": "stdout",
     "output_type": "stream",
     "text": [
      "Model: \"functional_1\"\n",
      "__________________________________________________________________________________________________\n",
      "Layer (type)                    Output Shape         Param #     Connected to                     \n",
      "==================================================================================================\n",
      "input_1 (InputLayer)            [(None, None, None,  0                                            \n",
      "__________________________________________________________________________________________________\n",
      "conv2d (Conv2D)                 (None, None, None, 3 896         input_1[0][0]                    \n",
      "__________________________________________________________________________________________________\n",
      "batch_normalization (BatchNorma (None, None, None, 3 128         conv2d[0][0]                     \n",
      "__________________________________________________________________________________________________\n",
      "activation (Activation)         (None, None, None, 3 0           batch_normalization[0][0]        \n",
      "__________________________________________________________________________________________________\n",
      "conv2d_1 (Conv2D)               (None, None, None, 6 18496       activation[0][0]                 \n",
      "__________________________________________________________________________________________________\n",
      "batch_normalization_1 (BatchNor (None, None, None, 6 256         conv2d_1[0][0]                   \n",
      "__________________________________________________________________________________________________\n",
      "activation_1 (Activation)       (None, None, None, 6 0           batch_normalization_1[0][0]      \n",
      "__________________________________________________________________________________________________\n",
      "conv2d_2 (Conv2D)               (None, None, None, 1 73856       activation_1[0][0]               \n",
      "__________________________________________________________________________________________________\n",
      "batch_normalization_2 (BatchNor (None, None, None, 1 512         conv2d_2[0][0]                   \n",
      "__________________________________________________________________________________________________\n",
      "activation_2 (Activation)       (None, None, None, 1 0           batch_normalization_2[0][0]      \n",
      "__________________________________________________________________________________________________\n",
      "conv2d_3 (Conv2D)               (None, None, None, 2 295168      activation_2[0][0]               \n",
      "__________________________________________________________________________________________________\n",
      "batch_normalization_3 (BatchNor (None, None, None, 2 1024        conv2d_3[0][0]                   \n",
      "__________________________________________________________________________________________________\n",
      "activation_3 (Activation)       (None, None, None, 2 0           batch_normalization_3[0][0]      \n",
      "__________________________________________________________________________________________________\n",
      "conv2d_4 (Conv2D)               (None, None, None, 5 1180160     activation_3[0][0]               \n",
      "__________________________________________________________________________________________________\n",
      "batch_normalization_4 (BatchNor (None, None, None, 5 2048        conv2d_4[0][0]                   \n",
      "__________________________________________________________________________________________________\n",
      "activation_4 (Activation)       (None, None, None, 5 0           batch_normalization_4[0][0]      \n",
      "__________________________________________________________________________________________________\n",
      "max_pooling2d (MaxPooling2D)    (None, None, None, 5 0           activation_4[0][0]               \n",
      "__________________________________________________________________________________________________\n",
      "conv2d_5 (Conv2D)               (None, None, None, 6 294976      max_pooling2d[0][0]              \n",
      "__________________________________________________________________________________________________\n",
      "batch_normalization_5 (BatchNor (None, None, None, 6 256         conv2d_5[0][0]                   \n",
      "__________________________________________________________________________________________________\n",
      "activation_5 (Activation)       (None, None, None, 6 0           batch_normalization_5[0][0]      \n",
      "__________________________________________________________________________________________________\n",
      "conv2d_6 (Conv2D)               (None, None, None, 1 73856       activation_5[0][0]               \n",
      "__________________________________________________________________________________________________\n",
      "batch_normalization_6 (BatchNor (None, None, None, 1 512         conv2d_6[0][0]                   \n",
      "__________________________________________________________________________________________________\n",
      "activation_6 (Activation)       (None, None, None, 1 0           batch_normalization_6[0][0]      \n",
      "__________________________________________________________________________________________________\n",
      "conv2d_7 (Conv2D)               (None, None, None, 2 295168      activation_6[0][0]               \n",
      "__________________________________________________________________________________________________\n",
      "batch_normalization_7 (BatchNor (None, None, None, 2 1024        conv2d_7[0][0]                   \n",
      "__________________________________________________________________________________________________\n",
      "activation_7 (Activation)       (None, None, None, 2 0           batch_normalization_7[0][0]      \n",
      "__________________________________________________________________________________________________\n",
      "conv2d_8 (Conv2D)               (None, None, None, 5 1180160     activation_7[0][0]               \n",
      "__________________________________________________________________________________________________\n",
      "batch_normalization_8 (BatchNor (None, None, None, 5 2048        conv2d_8[0][0]                   \n",
      "__________________________________________________________________________________________________\n",
      "activation_8 (Activation)       (None, None, None, 5 0           batch_normalization_8[0][0]      \n",
      "__________________________________________________________________________________________________\n",
      "conv2d_9 (Conv2D)               (None, None, None, 1 4719616     activation_8[0][0]               \n",
      "__________________________________________________________________________________________________\n",
      "batch_normalization_9 (BatchNor (None, None, None, 1 4096        conv2d_9[0][0]                   \n",
      "__________________________________________________________________________________________________\n",
      "activation_9 (Activation)       (None, None, None, 1 0           batch_normalization_9[0][0]      \n",
      "__________________________________________________________________________________________________\n",
      "tf_op_layer_SpaceToDepth (Tenso [(None, None, None,  0           max_pooling2d[0][0]              \n",
      "__________________________________________________________________________________________________\n",
      "max_pooling2d_1 (MaxPooling2D)  (None, None, None, 1 0           activation_9[0][0]               \n",
      "__________________________________________________________________________________________________\n",
      "concatenate (Concatenate)       (None, None, None, 3 0           tf_op_layer_SpaceToDepth[0][0]   \n",
      "                                                                 max_pooling2d_1[0][0]            \n",
      "__________________________________________________________________________________________________\n",
      "conv2d_10 (Conv2D)              (None, None, None, 3 884768      concatenate[0][0]                \n",
      "__________________________________________________________________________________________________\n",
      "batch_normalization_10 (BatchNo (None, None, None, 3 128         conv2d_10[0][0]                  \n",
      "__________________________________________________________________________________________________\n",
      "activation_10 (Activation)      (None, None, None, 3 0           batch_normalization_10[0][0]     \n",
      "__________________________________________________________________________________________________\n",
      "conv2d_11 (Conv2D)              (None, None, None, 1 36992       activation_10[0][0]              \n",
      "__________________________________________________________________________________________________\n",
      "batch_normalization_11 (BatchNo (None, None, None, 1 512         conv2d_11[0][0]                  \n",
      "__________________________________________________________________________________________________\n",
      "activation_11 (Activation)      (None, None, None, 1 0           batch_normalization_11[0][0]     \n",
      "__________________________________________________________________________________________________\n",
      "conv2d_12 (Conv2D)              (None, None, None, 2 295168      activation_11[0][0]              \n",
      "__________________________________________________________________________________________________\n",
      "batch_normalization_12 (BatchNo (None, None, None, 2 1024        conv2d_12[0][0]                  \n",
      "__________________________________________________________________________________________________\n",
      "activation_12 (Activation)      (None, None, None, 2 0           batch_normalization_12[0][0]     \n",
      "__________________________________________________________________________________________________\n",
      "conv2d_13 (Conv2D)              (None, None, None, 5 1180160     activation_12[0][0]              \n",
      "__________________________________________________________________________________________________\n",
      "batch_normalization_13 (BatchNo (None, None, None, 5 2048        conv2d_13[0][0]                  \n",
      "__________________________________________________________________________________________________\n",
      "activation_13 (Activation)      (None, None, None, 5 0           batch_normalization_13[0][0]     \n",
      "__________________________________________________________________________________________________\n",
      "conv2d_14 (Conv2D)              (None, None, None, 1 4719616     activation_13[0][0]              \n",
      "__________________________________________________________________________________________________\n",
      "batch_normalization_14 (BatchNo (None, None, None, 1 4096        conv2d_14[0][0]                  \n",
      "__________________________________________________________________________________________________\n",
      "activation_14 (Activation)      (None, None, None, 1 0           batch_normalization_14[0][0]     \n",
      "__________________________________________________________________________________________________\n",
      "tf_op_layer_SpaceToDepth_1 (Ten [(None, None, None,  0           concatenate[0][0]                \n",
      "__________________________________________________________________________________________________\n",
      "max_pooling2d_2 (MaxPooling2D)  (None, None, None, 1 0           activation_14[0][0]              \n",
      "__________________________________________________________________________________________________\n",
      "concatenate_1 (Concatenate)     (None, None, None, 1 0           tf_op_layer_SpaceToDepth_1[0][0] \n",
      "                                                                 max_pooling2d_2[0][0]            \n",
      "__________________________________________________________________________________________________\n",
      "conv2d_15 (Conv2D)              (None, None, None, 2 2662600     concatenate_1[0][0]              \n",
      "__________________________________________________________________________________________________\n",
      "global_average_pooling2d (Globa (None, 200)          0           conv2d_15[0][0]                  \n",
      "__________________________________________________________________________________________________\n",
      "activation_15 (Activation)      (None, 200)          0           global_average_pooling2d[0][0]   \n",
      "==================================================================================================\n",
      "Total params: 17,931,368\n",
      "Trainable params: 17,921,512\n",
      "Non-trainable params: 9,856\n",
      "__________________________________________________________________________________________________\n"
     ]
    }
   ],
   "source": [
    "#Define models using Keras.Models similar to HW3 Task 2\n",
    "\n",
    "# Note: Cannot use one input dims as input dims change throughout training and so does data. Perhaps need to fit a new model each time?\n",
    "# InputDims = (64,64)\n",
    "BatchSize = 256\n",
    "NumChannels = 3\n",
    "\n",
    "from tensorflow.keras.layers import Input, Conv2D, BatchNormalization, Activation, MaxPool2D, Concatenate, GlobalAveragePooling2D, Lambda\n",
    "from tensorflow.keras import Model\n",
    "\n",
    "## Input\n",
    "# inputs = Input(shape=(InputDims[0],InputDims[1],3))\n",
    "inputs = Input(shape=(None, None,3)) # <- Use None to allow flexible input shape.\n",
    "\n",
    "## Block 1: 5x Conv2D layers (32,64,128,256,512) with BatchNorm and Relu activation with final MaxPool2D\n",
    "\n",
    "block1 = Conv2D(filters=32, kernel_size=(3,3), strides=(1,1), padding='same', activation=None)(inputs) # <- Do not use activation as need to squeeze in BatchNorm\n",
    "block1 = BatchNormalization()(block1)\n",
    "block1 = Activation('relu')(block1)\n",
    "block1 = Conv2D(filters=64, kernel_size=(3,3), strides=(1,1), padding='same', activation=None)(block1) \n",
    "block1 = BatchNormalization()(block1)\n",
    "block1 = Activation('relu')(block1)\n",
    "block1 = Conv2D(filters=128, kernel_size=(3,3), strides=(1,1), padding='same', activation=None)(block1) \n",
    "block1 = BatchNormalization()(block1)\n",
    "block1 = Activation('relu')(block1)\n",
    "block1 = Conv2D(filters=256, kernel_size=(3,3), strides=(1,1), padding='same', activation=None)(block1) \n",
    "block1 = BatchNormalization()(block1)\n",
    "block1 = Activation('relu')(block1)\n",
    "block1 = Conv2D(filters=512, kernel_size=(3,3), strides=(1,1), padding='same', activation=None)(block1) \n",
    "block1 = BatchNormalization()(block1)\n",
    "block1 = Activation('relu')(block1)\n",
    "\n",
    "block1 = MaxPool2D(pool_size=(2,2), strides=2)(block1)\n",
    "\n",
    "## Block 2: 5x Conv2D layers (64,128,256,512,1024) with BatchNorm and Relu activation with final MaxPool2D\n",
    "\n",
    "block2 = Conv2D(filters=64, kernel_size=(3,3), strides=(1,1), padding='same', activation=None)(block1) \n",
    "block2 = BatchNormalization()(block2)\n",
    "block2 = Activation('relu')(block2)\n",
    "block2 = Conv2D(filters=128, kernel_size=(3,3), strides=(1,1), padding='same', activation=None)(block2) \n",
    "block2 = BatchNormalization()(block2)\n",
    "block2 = Activation('relu')(block2)\n",
    "block2 = Conv2D(filters=256, kernel_size=(3,3), strides=(1,1), padding='same', activation=None)(block2) \n",
    "block2 = BatchNormalization()(block2)\n",
    "block2 = Activation('relu')(block2)\n",
    "block2 = Conv2D(filters=512, kernel_size=(3,3), strides=(1,1), padding='same', activation=None)(block2) \n",
    "block2 = BatchNormalization()(block2)\n",
    "block2 = Activation('relu')(block2)\n",
    "block2 = Conv2D(filters=1024, kernel_size=(3,3), strides=(1,1), padding='same', activation=None)(block2) \n",
    "block2 = BatchNormalization()(block2)\n",
    "block2 = Activation('relu')(block2)\n",
    "\n",
    "block2 = MaxPool2D(pool_size=(2,2), strides=2) (block2)\n",
    "block1_split = spaceToDepth(block1)\n",
    "# Need to call spaceToDepth via Lambda layer\n",
    "# block1_split = Lambda(spaceToDepth)(block1)\n",
    "#Call concatenate on split \n",
    "block2 = Concatenate()([block1_split,block2])\n",
    "\n",
    "## Block 3: 5x Conv2D layers (32,128,256,512,1024) with BatchNorm and Relu activation with final MaxPool2D\n",
    "\n",
    "block3 = Conv2D(filters=32, kernel_size=(3,3), strides=(1,1), padding='same', activation=None)(block2) \n",
    "block3 = BatchNormalization()(block3)\n",
    "block3 = Activation('relu')(block3)\n",
    "block3 = Conv2D(filters=128, kernel_size=(3,3), strides=(1,1), padding='same', activation=None)(block3) \n",
    "block3 = BatchNormalization()(block3)\n",
    "block3 = Activation('relu')(block3)\n",
    "block3 = Conv2D(filters=256, kernel_size=(3,3), strides=(1,1), padding='same', activation=None)(block3) \n",
    "block3 = BatchNormalization()(block3)\n",
    "block3 = Activation('relu')(block3)\n",
    "block3 = Conv2D(filters=512, kernel_size=(3,3), strides=(1,1), padding='same', activation=None)(block3) \n",
    "block3 = BatchNormalization()(block3)\n",
    "block3 = Activation('relu')(block3)\n",
    "block3 = Conv2D(filters=1024, kernel_size=(3,3), strides=(1,1), padding='same', activation=None)(block3) \n",
    "block3 = BatchNormalization()(block3)\n",
    "block3 = Activation('relu')(block3)\n",
    "\n",
    "block3 = MaxPool2D(pool_size=(2,2), strides=2) (block3)\n",
    "block2_split = spaceToDepth(block2)\n",
    "# block2_split = Lambda(spaceToDepth)(block2)\n",
    "#Call concatenate on split \n",
    "block3 = Concatenate()([block2_split,block3])\n",
    "\n",
    "## Block 4: Final Conv2d (200) and GlobalAveragePool2D\n",
    "block4 = Conv2D(filters=200, kernel_size=(1,1), strides=(1,1), padding='same', activation=None)(block3) \n",
    "block4 = GlobalAveragePooling2D(data_format=None)(block4)\n",
    "\n",
    "## Output\n",
    "output = Activation('softmax')(block4)\n",
    "\n",
    "model1 = Model(inputs=[inputs], outputs=[output])\n",
    "model1.summary()"
   ]
  },
  {
   "cell_type": "code",
   "execution_count": 6,
   "metadata": {},
   "outputs": [],
   "source": [
    "model1.compile(loss='categorical_crossentropy',\n",
    "              optimizer='adam',\n",
    "              metrics=['accuracy'])"
   ]
  },
  {
   "cell_type": "code",
   "execution_count": 7,
   "metadata": {},
   "outputs": [],
   "source": [
    "# Callback ReduceLROnPlateau\n",
    "# Double check: Original paper did not specify specific values so implementation will use default values\n",
    "reduceLR = tf.keras.callbacks.ReduceLROnPlateau(factor=0.1, patience=10, verbose=0, mode='auto',\n",
    "    min_delta=0.0001, cooldown=0, min_lr=0)\n",
    "# https://www.tensorflow.org/api_docs/python/tf/keras/callbacks/ReduceLROnPlateau"
   ]
  },
  {
   "cell_type": "code",
   "execution_count": 21,
   "metadata": {},
   "outputs": [
    {
     "name": "stdout",
     "output_type": "stream",
     "text": [
      "Epoch 1/15\n",
      "390/390 [==============================] - 2074s 5s/step - loss: 5.2888 - accuracy: 0.0348 - val_loss: 5.6413 - val_accuracy: 0.0118 - lr: 0.0010\n",
      "Epoch 2/15\n",
      "390/390 [==============================] - 614s 2s/step - loss: 4.1799 - accuracy: 0.1135 - val_loss: 4.5713 - val_accuracy: 0.0686 - lr: 0.0010\n",
      "Epoch 3/15\n",
      "390/390 [==============================] - 615s 2s/step - loss: 3.7159 - accuracy: 0.1827 - val_loss: 4.7265 - val_accuracy: 0.0961 - lr: 0.0010\n",
      "Epoch 4/15\n",
      "390/390 [==============================] - 615s 2s/step - loss: 3.3906 - accuracy: 0.2365 - val_loss: 4.3494 - val_accuracy: 0.1071 - lr: 0.0010\n",
      "Epoch 5/15\n",
      "390/390 [==============================] - 616s 2s/step - loss: 3.1462 - accuracy: 0.2804 - val_loss: 4.4644 - val_accuracy: 0.1078 - lr: 0.0010\n",
      "Epoch 6/15\n",
      "390/390 [==============================] - 618s 2s/step - loss: 2.9299 - accuracy: 0.3199 - val_loss: 4.1508 - val_accuracy: 0.1419 - lr: 0.0010\n",
      "Epoch 7/15\n",
      "390/390 [==============================] - 615s 2s/step - loss: 2.7418 - accuracy: 0.3563 - val_loss: 4.2438 - val_accuracy: 0.1240 - lr: 0.0010\n",
      "Epoch 8/15\n",
      "390/390 [==============================] - 618s 2s/step - loss: 2.5626 - accuracy: 0.3908 - val_loss: 3.8081 - val_accuracy: 0.1710 - lr: 0.0010\n",
      "Epoch 9/15\n",
      "390/390 [==============================] - 614s 2s/step - loss: 2.4036 - accuracy: 0.4226 - val_loss: 4.0019 - val_accuracy: 0.1562 - lr: 0.0010\n",
      "Epoch 10/15\n",
      "390/390 [==============================] - 613s 2s/step - loss: 2.2401 - accuracy: 0.4529 - val_loss: 4.1184 - val_accuracy: 0.1636 - lr: 0.0010\n",
      "Epoch 11/15\n",
      "390/390 [==============================] - 615s 2s/step - loss: 2.0851 - accuracy: 0.4870 - val_loss: 3.9016 - val_accuracy: 0.1774 - lr: 0.0010\n",
      "Epoch 12/15\n",
      "390/390 [==============================] - 615s 2s/step - loss: 1.9178 - accuracy: 0.5210 - val_loss: 4.1178 - val_accuracy: 0.1596 - lr: 0.0010\n",
      "Epoch 13/15\n",
      "390/390 [==============================] - 616s 2s/step - loss: 1.7490 - accuracy: 0.5550 - val_loss: 4.4830 - val_accuracy: 0.1404 - lr: 0.0010\n",
      "Epoch 14/15\n",
      "390/390 [==============================] - 616s 2s/step - loss: 1.5657 - accuracy: 0.5959 - val_loss: 3.7454 - val_accuracy: 0.2084 - lr: 0.0010\n",
      "Epoch 15/15\n",
      "390/390 [==============================] - 615s 2s/step - loss: 1.3753 - accuracy: 0.6372 - val_loss: 4.5776 - val_accuracy: 0.1429 - lr: 0.0010\n"
     ]
    }
   ],
   "source": [
    "batch_size=256\n",
    "model1.fit(train_generator, \n",
    "           epochs=15, \n",
    "           steps_per_epoch=train_generator.n // train_generator.batch_size, \n",
    "           validation_steps=validation_generator.n // validation_generator.batch_size, \n",
    "           validation_data=validation_generator,  \n",
    "           verbose=1, \n",
    "           callbacks=[reduceLR])\n",
    "\n",
    "model1.save('Models/Model_1.h5')  "
   ]
  },
  {
   "cell_type": "markdown",
   "metadata": {},
   "source": [
    "## Update target_size to 64x64"
   ]
  },
  {
   "cell_type": "code",
   "execution_count": 10,
   "metadata": {},
   "outputs": [
    {
     "name": "stdout",
     "output_type": "stream",
     "text": [
      "Found 100000 images belonging to 200 classes.\n"
     ]
    }
   ],
   "source": [
    "train_generator = train_datagen.flow_from_directory('./tiny-imagenet-200/train', \n",
    "                                                    target_size=(64, 64), \n",
    "                                                    batch_size = 64, \n",
    "                                                    shuffle=True)"
   ]
  },
  {
   "cell_type": "code",
   "execution_count": 11,
   "metadata": {},
   "outputs": [
    {
     "name": "stdout",
     "output_type": "stream",
     "text": [
      "Epoch 1/15\n",
      "   2/1562 [..............................] - ETA: 17:54 - loss: 3.1444 - accuracy: 0.2344WARNING:tensorflow:Callbacks method `on_train_batch_end` is slow compared to the batch time (batch time: 0.4692s vs `on_train_batch_end` time: 0.9075s). Check your callbacks.\n",
      "1562/1562 [==============================] - 2226s 1s/step - loss: 2.5410 - accuracy: 0.3928 - val_loss: 3.1819 - val_accuracy: 0.3000\n",
      "Epoch 2/15\n",
      "1562/1562 [==============================] - 2198s 1s/step - loss: 2.1290 - accuracy: 0.4754 - val_loss: 3.3033 - val_accuracy: 0.3053\n",
      "Epoch 3/15\n",
      "1562/1562 [==============================] - 2192s 1s/step - loss: 1.8778 - accuracy: 0.5296 - val_loss: 2.4640 - val_accuracy: 0.4290\n",
      "Epoch 4/15\n",
      "1562/1562 [==============================] - 2193s 1s/step - loss: 1.6731 - accuracy: 0.5750 - val_loss: 3.0181 - val_accuracy: 0.3663\n",
      "Epoch 5/15\n",
      "1562/1562 [==============================] - 2199s 1s/step - loss: 1.4832 - accuracy: 0.6149 - val_loss: 2.3023 - val_accuracy: 0.4632\n",
      "Epoch 6/15\n",
      "1562/1562 [==============================] - 2197s 1s/step - loss: 1.2994 - accuracy: 0.6576 - val_loss: 2.4213 - val_accuracy: 0.4564\n",
      "Epoch 7/15\n",
      "1562/1562 [==============================] - 2195s 1s/step - loss: 1.1095 - accuracy: 0.7018 - val_loss: 2.3428 - val_accuracy: 0.4681\n",
      "Epoch 8/15\n",
      "1562/1562 [==============================] - 2191s 1s/step - loss: 0.9368 - accuracy: 0.7429 - val_loss: 2.5211 - val_accuracy: 0.4611\n",
      "Epoch 9/15\n",
      "1562/1562 [==============================] - 2193s 1s/step - loss: 0.7761 - accuracy: 0.7824 - val_loss: 2.5868 - val_accuracy: 0.4631\n",
      "Epoch 10/15\n",
      "1562/1562 [==============================] - 2194s 1s/step - loss: 0.6337 - accuracy: 0.8198 - val_loss: 2.7598 - val_accuracy: 0.4408\n",
      "Epoch 11/15\n",
      "1562/1562 [==============================] - 2196s 1s/step - loss: 0.5119 - accuracy: 0.8523 - val_loss: 2.7978 - val_accuracy: 0.4634\n",
      "Epoch 12/15\n",
      "1562/1562 [==============================] - 2202s 1s/step - loss: 0.4086 - accuracy: 0.8818 - val_loss: 2.9484 - val_accuracy: 0.4491\n",
      "Epoch 13/15\n",
      "1562/1562 [==============================] - 2196s 1s/step - loss: 0.3392 - accuracy: 0.9003 - val_loss: 2.9648 - val_accuracy: 0.4657\n",
      "Epoch 14/15\n",
      "1562/1562 [==============================] - 2195s 1s/step - loss: 0.2786 - accuracy: 0.9183 - val_loss: 3.2340 - val_accuracy: 0.4487\n",
      "Epoch 15/15\n",
      "1562/1562 [==============================] - 2190s 1s/step - loss: 0.2405 - accuracy: 0.9284 - val_loss: 3.1214 - val_accuracy: 0.4578\n"
     ]
    }
   ],
   "source": [
    "model = load_model('Models/Model_1.h5')\n",
    "\n",
    "model.fit(train_generator, \n",
    "           epochs=15, \n",
    "           steps_per_epoch=train_generator.n // train_generator.batch_size, \n",
    "           validation_steps=validation_generator.n // validation_generator.batch_size, \n",
    "           validation_data=validation_generator, \n",
    "           verbose=1, \n",
    "           callbacks=[reduceLR])\n",
    "\n",
    "model.save('Models/Model_2.h5')"
   ]
  },
  {
   "cell_type": "markdown",
   "metadata": {},
   "source": [
    "## Update target size to 16x16"
   ]
  },
  {
   "cell_type": "code",
   "execution_count": 12,
   "metadata": {},
   "outputs": [
    {
     "name": "stdout",
     "output_type": "stream",
     "text": [
      "Found 100000 images belonging to 200 classes.\n"
     ]
    }
   ],
   "source": [
    "train_generator = train_datagen.flow_from_directory('./tiny-imagenet-200/train', \n",
    "                                                    target_size=(16, 16), \n",
    "                                                    batch_size = 256, \n",
    "                                                    shuffle=True)"
   ]
  },
  {
   "cell_type": "code",
   "execution_count": 13,
   "metadata": {},
   "outputs": [
    {
     "name": "stdout",
     "output_type": "stream",
     "text": [
      "Epoch 1/10\n",
      "  2/390 [..............................] - ETA: 1:19 - loss: 16.3111 - accuracy: 0.1016WARNING:tensorflow:Callbacks method `on_train_batch_end` is slow compared to the batch time (batch time: 0.1488s vs `on_train_batch_end` time: 0.2624s). Check your callbacks.\n",
      "390/390 [==============================] - 247s 632ms/step - loss: 5.5033 - accuracy: 0.1135 - val_loss: 4.1946 - val_accuracy: 0.1388\n",
      "Epoch 2/10\n",
      "390/390 [==============================] - 241s 617ms/step - loss: 4.0901 - accuracy: 0.1506 - val_loss: 4.4587 - val_accuracy: 0.1113\n",
      "Epoch 3/10\n",
      "390/390 [==============================] - 241s 617ms/step - loss: 3.8522 - accuracy: 0.1805 - val_loss: 4.8705 - val_accuracy: 0.0976\n",
      "Epoch 4/10\n",
      "390/390 [==============================] - 241s 617ms/step - loss: 3.6561 - accuracy: 0.2065 - val_loss: 5.3165 - val_accuracy: 0.0839\n",
      "Epoch 5/10\n",
      "390/390 [==============================] - 241s 617ms/step - loss: 3.4872 - accuracy: 0.2309 - val_loss: 5.9440 - val_accuracy: 0.0731\n",
      "Epoch 6/10\n",
      "390/390 [==============================] - 240s 616ms/step - loss: 3.3343 - accuracy: 0.2535 - val_loss: 6.3609 - val_accuracy: 0.0680\n",
      "Epoch 7/10\n",
      "390/390 [==============================] - 241s 619ms/step - loss: 3.2023 - accuracy: 0.2758 - val_loss: 6.8745 - val_accuracy: 0.0596\n",
      "Epoch 8/10\n",
      "390/390 [==============================] - 241s 617ms/step - loss: 3.0829 - accuracy: 0.2949 - val_loss: 7.4816 - val_accuracy: 0.0542\n",
      "Epoch 9/10\n",
      "390/390 [==============================] - 241s 617ms/step - loss: 2.9753 - accuracy: 0.3140 - val_loss: 7.5926 - val_accuracy: 0.0547\n",
      "Epoch 10/10\n",
      "390/390 [==============================] - 242s 620ms/step - loss: 2.8722 - accuracy: 0.3332 - val_loss: 7.8776 - val_accuracy: 0.0521\n"
     ]
    }
   ],
   "source": [
    "model = load_model('Models/Model_2.h5')\n",
    "\n",
    "model.fit(train_generator, \n",
    "           epochs=10, \n",
    "           steps_per_epoch=train_generator.n // train_generator.batch_size, \n",
    "           validation_steps=validation_generator.n // validation_generator.batch_size, \n",
    "           validation_data=validation_generator, \n",
    "           verbose=1, \n",
    "           callbacks=[reduceLR])\n",
    "\n",
    "model.save('Models/Model_3.h5')"
   ]
  },
  {
   "cell_type": "markdown",
   "metadata": {},
   "source": [
    "## Update target size to 64x64\n"
   ]
  },
  {
   "cell_type": "code",
   "execution_count": 14,
   "metadata": {},
   "outputs": [
    {
     "name": "stdout",
     "output_type": "stream",
     "text": [
      "Found 100000 images belonging to 200 classes.\n"
     ]
    }
   ],
   "source": [
    "train_generator = train_datagen.flow_from_directory('./tiny-imagenet-200/train', \n",
    "                                                    target_size=(64, 64), \n",
    "                                                    batch_size = 64, \n",
    "                                                    shuffle=True)"
   ]
  },
  {
   "cell_type": "code",
   "execution_count": 15,
   "metadata": {},
   "outputs": [
    {
     "name": "stdout",
     "output_type": "stream",
     "text": [
      "Epoch 1/15\n",
      "   2/1562 [..............................] - ETA: 17:34 - loss: 1.8622 - accuracy: 0.5469WARNING:tensorflow:Callbacks method `on_train_batch_end` is slow compared to the batch time (batch time: 0.4657s vs `on_train_batch_end` time: 0.8860s). Check your callbacks.\n",
      "1562/1562 [==============================] - 2203s 1s/step - loss: 0.2309 - accuracy: 0.9461 - val_loss: 2.4107 - val_accuracy: 0.5387\n",
      "Epoch 2/15\n",
      "1562/1562 [==============================] - 2205s 1s/step - loss: 0.0477 - accuracy: 0.9953 - val_loss: 2.4927 - val_accuracy: 0.5406\n",
      "Epoch 3/15\n",
      "1562/1562 [==============================] - 2201s 1s/step - loss: 0.0279 - accuracy: 0.9983 - val_loss: 2.5770 - val_accuracy: 0.5469\n",
      "Epoch 4/15\n",
      "1562/1562 [==============================] - 2200s 1s/step - loss: 0.0194 - accuracy: 0.9990 - val_loss: 2.6493 - val_accuracy: 0.5440\n",
      "Epoch 5/15\n",
      "1562/1562 [==============================] - 2195s 1s/step - loss: 0.0147 - accuracy: 0.9993 - val_loss: 2.7203 - val_accuracy: 0.5429\n",
      "Epoch 6/15\n",
      "1562/1562 [==============================] - 2196s 1s/step - loss: 0.0117 - accuracy: 0.9994 - val_loss: 2.7841 - val_accuracy: 0.5448\n",
      "Epoch 7/15\n",
      "1562/1562 [==============================] - 2197s 1s/step - loss: 0.0098 - accuracy: 0.9996 - val_loss: 2.8390 - val_accuracy: 0.5440\n",
      "Epoch 8/15\n",
      "1562/1562 [==============================] - 2194s 1s/step - loss: 0.0092 - accuracy: 0.9995 - val_loss: 2.8657 - val_accuracy: 0.5474\n",
      "Epoch 9/15\n",
      "1562/1562 [==============================] - 2195s 1s/step - loss: 0.0073 - accuracy: 0.9996 - val_loss: 2.9456 - val_accuracy: 0.5421\n",
      "Epoch 10/15\n",
      "1562/1562 [==============================] - 2196s 1s/step - loss: 0.0066 - accuracy: 0.9996 - val_loss: 2.9515 - val_accuracy: 0.5456\n",
      "Epoch 11/15\n",
      "1562/1562 [==============================] - 2196s 1s/step - loss: 0.0070 - accuracy: 0.9995 - val_loss: 2.9966 - val_accuracy: 0.5428\n",
      "Epoch 12/15\n",
      "1562/1562 [==============================] - 2201s 1s/step - loss: 0.0041 - accuracy: 0.9998 - val_loss: 2.9648 - val_accuracy: 0.5469\n",
      "Epoch 13/15\n",
      "1562/1562 [==============================] - 2198s 1s/step - loss: 0.0036 - accuracy: 0.9997 - val_loss: 2.9735 - val_accuracy: 0.5462\n",
      "Epoch 14/15\n",
      "1562/1562 [==============================] - 2198s 1s/step - loss: 0.0031 - accuracy: 0.9998 - val_loss: 2.9722 - val_accuracy: 0.5475\n",
      "Epoch 15/15\n",
      "1562/1562 [==============================] - 2199s 1s/step - loss: 0.0030 - accuracy: 0.9997 - val_loss: 2.9738 - val_accuracy: 0.5469\n"
     ]
    }
   ],
   "source": [
    "model = load_model('Models/Model_3.h5')\n",
    "\n",
    "model.fit(train_generator, \n",
    "           epochs=15, \n",
    "           steps_per_epoch=train_generator.n // train_generator.batch_size, \n",
    "           validation_steps=validation_generator.n // validation_generator.batch_size, \n",
    "           validation_data=validation_generator, \n",
    "           verbose=1, \n",
    "           callbacks=[reduceLR])\n",
    "\n",
    "model.save('Models/Model_4.h5')"
   ]
  },
  {
   "cell_type": "markdown",
   "metadata": {},
   "source": [
    "### Image augmentation\n",
    "\n",
    "Indirect approach: \n",
    "images with 32x32 resolutions for the beginning few epochs \n",
    "followed by 64x64 resolution images. \n",
    "Then we fed images with\n",
    "16x16 resolutions for the next few numbers of epochs\n",
    "Finally fed the model with 64x64 resolutions images"
   ]
  },
  {
   "cell_type": "code",
   "execution_count": 8,
   "metadata": {},
   "outputs": [
    {
     "name": "stdout",
     "output_type": "stream",
     "text": [
      "Found 100000 images belonging to 200 classes.\n"
     ]
    }
   ],
   "source": [
    "train_generator = train_datagen.flow_from_directory('./tiny-imagenet-200/train', \n",
    "                                                    target_size=(16, 16), \n",
    "                                                    batch_size = 64, \n",
    "                                                    shuffle=True)"
   ]
  },
  {
   "cell_type": "code",
   "execution_count": 9,
   "metadata": {},
   "outputs": [
    {
     "name": "stdout",
     "output_type": "stream",
     "text": [
      "Found 10000 validated image filenames belonging to 200 classes.\n"
     ]
    }
   ],
   "source": [
    "validation_generator = valid_datagen.flow_from_dataframe(val_data, \n",
    "                                                         directory='./tiny-imagenet-200/val/images/', \n",
    "                                                         target_size=(16, 16),\n",
    "                                                         color_mode='rgb', \n",
    "                                                         class_mode='categorical', \n",
    "                                                         x_col='Img', \n",
    "                                                         y_col='Label',\n",
    "                                                         batch_size=256, \n",
    "                                                         shuffle=True)\n"
   ]
  },
  {
   "cell_type": "code",
   "execution_count": 19,
   "metadata": {},
   "outputs": [
    {
     "name": "stdout",
     "output_type": "stream",
     "text": [
      "Epoch 1/5\n",
      "1562/1562 [==============================] - 223s 143ms/step - loss: 8.0533 - accuracy: 0.1851 - val_loss: 6.2752 - val_accuracy: 0.1669\n",
      "Epoch 2/5\n",
      "1562/1562 [==============================] - 221s 141ms/step - loss: 4.6288 - accuracy: 0.2013 - val_loss: 4.7239 - val_accuracy: 0.1655\n",
      "Epoch 3/5\n",
      "1562/1562 [==============================] - 221s 141ms/step - loss: 3.9333 - accuracy: 0.2076 - val_loss: 4.2704 - val_accuracy: 0.1714\n",
      "Epoch 4/5\n",
      "1562/1562 [==============================] - 220s 141ms/step - loss: 3.6765 - accuracy: 0.2229 - val_loss: 4.0738 - val_accuracy: 0.1822\n",
      "Epoch 5/5\n",
      "1562/1562 [==============================] - 221s 141ms/step - loss: 3.5239 - accuracy: 0.2378 - val_loss: 3.9487 - val_accuracy: 0.1948\n"
     ]
    }
   ],
   "source": [
    "model = load_model('Models/Model_4.h5')\n",
    "\n",
    "model.fit(train_generator, \n",
    "           epochs=5, \n",
    "           steps_per_epoch=train_generator.n // train_generator.batch_size, \n",
    "           validation_steps=validation_generator.n // validation_generator.batch_size, \n",
    "           validation_data=validation_generator, \n",
    "           verbose=1, \n",
    "           callbacks=[reduceLR])\n",
    "\n",
    "model.save('Models/Model_5.h5')"
   ]
  },
  {
   "cell_type": "code",
   "execution_count": 10,
   "metadata": {},
   "outputs": [
    {
     "name": "stdout",
     "output_type": "stream",
     "text": [
      "Found 100000 images belonging to 200 classes.\n"
     ]
    }
   ],
   "source": [
    "train_generator = train_datagen.flow_from_directory('./tiny-imagenet-200/train', \n",
    "                                                    target_size=(64, 64), \n",
    "                                                    batch_size = 64, \n",
    "                                                    shuffle=True)"
   ]
  },
  {
   "cell_type": "code",
   "execution_count": 11,
   "metadata": {},
   "outputs": [
    {
     "name": "stdout",
     "output_type": "stream",
     "text": [
      "Found 10000 validated image filenames belonging to 200 classes.\n"
     ]
    }
   ],
   "source": [
    "validation_generator = valid_datagen.flow_from_dataframe(val_data, \n",
    "                                                         directory='./tiny-imagenet-200/val/images/', \n",
    "                                                         target_size=(64, 64),\n",
    "                                                         color_mode='rgb', \n",
    "                                                         class_mode='categorical', \n",
    "                                                         x_col='Img', \n",
    "                                                         y_col='Label',\n",
    "                                                         batch_size=256, \n",
    "                                                         shuffle=True)"
   ]
  },
  {
   "cell_type": "code",
   "execution_count": 14,
   "metadata": {},
   "outputs": [
    {
     "name": "stdout",
     "output_type": "stream",
     "text": [
      "Epoch 1/5\n",
      "   2/1562 [..............................] - ETA: 17:30 - loss: 0.6515 - accuracy: 0.8438WARNING:tensorflow:Callbacks method `on_train_batch_end` is slow compared to the batch time (batch time: 0.4596s vs `on_train_batch_end` time: 0.8864s). Check your callbacks.\n",
      "1562/1562 [==============================] - 2224s 1s/step - loss: 0.2026 - accuracy: 0.9577 - val_loss: 2.5346 - val_accuracy: 0.5133\n",
      "Epoch 2/5\n",
      "1562/1562 [==============================] - 2196s 1s/step - loss: 0.0395 - accuracy: 0.9969 - val_loss: 2.5944 - val_accuracy: 0.5260\n",
      "Epoch 3/5\n",
      "1562/1562 [==============================] - 2199s 1s/step - loss: 0.0179 - accuracy: 0.9992 - val_loss: 2.6657 - val_accuracy: 0.5362\n",
      "Epoch 4/5\n",
      "1562/1562 [==============================] - 2202s 1s/step - loss: 0.0102 - accuracy: 0.9997 - val_loss: 2.7151 - val_accuracy: 0.5393\n",
      "Epoch 5/5\n",
      "1562/1562 [==============================] - 2198s 1s/step - loss: 0.0074 - accuracy: 0.9996 - val_loss: 2.7461 - val_accuracy: 0.5398\n"
     ]
    }
   ],
   "source": [
    "model = load_model('Models/Model_5.h5')\n",
    "\n",
    "model.fit(train_generator, \n",
    "           epochs=5, \n",
    "           steps_per_epoch=train_generator.n // train_generator.batch_size, \n",
    "           validation_steps=validation_generator.n // validation_generator.batch_size, \n",
    "           validation_data=validation_generator, \n",
    "           verbose=1, \n",
    "           callbacks=[reduceLR])\n",
    "\n",
    "model.save('Models/Model_6.h5')"
   ]
  },
  {
   "cell_type": "code",
   "execution_count": 12,
   "metadata": {},
   "outputs": [],
   "source": [
    "seq = iaa.SomeOf((0, None), [\n",
    "    iaa.Affine(scale=(0.8, 1.2)),   #scale the image \n",
    "    iaa.CoarseDropout((0.0, 0.3), size_percent=(0.05, 0.07)),   #CoarseDropout \n",
    "    iaa.Affine(rotate=45),          #Rotate the image\n",
    "    iaa.AdditiveGaussianNoise(scale=0.1*255),  #Add Gaussiance Noise\n",
    "    iaa.CropAndPad(percent=(-0.3, 0.3))   # CropAndPad\n",
    "     ])"
   ]
  },
  {
   "cell_type": "markdown",
   "metadata": {},
   "source": [
    " Medium article: https://towardsdatascience.com/data-augmentation-for-deep-learning-4fe21d1a4eb9\n",
    " SomeOf: https://imgaug.readthedocs.io/en/latest/source/overview/meta.html#someof"
   ]
  },
  {
   "cell_type": "code",
   "execution_count": 13,
   "metadata": {},
   "outputs": [
    {
     "name": "stdout",
     "output_type": "stream",
     "text": [
      "Found 100000 images belonging to 200 classes.\n"
     ]
    }
   ],
   "source": [
    "train_datagen = ImageDataGenerator(rescale=1/255.0, preprocessing_function=seq.augment_image )\n",
    "train_generator = train_datagen.flow_from_directory('./tiny-imagenet-200/train', target_size=(64, 64),\\\n",
    "                                                    batch_size = 256, shuffle=True)"
   ]
  },
  {
   "cell_type": "code",
   "execution_count": 14,
   "metadata": {},
   "outputs": [
    {
     "name": "stdout",
     "output_type": "stream",
     "text": [
      "Found 10000 validated image filenames belonging to 200 classes.\n"
     ]
    }
   ],
   "source": [
    "valid_datagen = ImageDataGenerator(rescale=1./255)\n",
    "\n",
    "validation_generator = valid_datagen.flow_from_dataframe(val_data, \n",
    "                                                         directory='./tiny-imagenet-200/val/images/', \n",
    "                                                         target_size=(64, 64),\n",
    "                                                         color_mode='rgb', \n",
    "                                                         class_mode='categorical', \n",
    "                                                         x_col='Img', \n",
    "                                                         y_col='Label',\n",
    "                                                         batch_size=64, \n",
    "                                                         shuffle=True)"
   ]
  },
  {
   "cell_type": "code",
   "execution_count": 15,
   "metadata": {},
   "outputs": [
    {
     "name": "stdout",
     "output_type": "stream",
     "text": [
      "Epoch 1/5\n"
     ]
    },
    {
     "ename": "ResourceExhaustedError",
     "evalue": " OOM when allocating tensor with shape[256,512,32,32] and type float on /job:localhost/replica:0/task:0/device:GPU:0 by allocator GPU_0_bfc\n\t [[node model_1/conv2d_24/Conv2D (defined at <ipython-input-15-868754b6ac1d>:9) ]]\nHint: If you want to see a list of allocated tensors when OOM happens, add report_tensor_allocations_upon_oom to RunOptions for current allocation info.\n [Op:__inference_train_function_5504]\n\nFunction call stack:\ntrain_function\n",
     "output_type": "error",
     "traceback": [
      "\u001b[0;31m---------------------------------------------------------------------------\u001b[0m",
      "\u001b[0;31mResourceExhaustedError\u001b[0m                    Traceback (most recent call last)",
      "\u001b[0;32m<ipython-input-15-868754b6ac1d>\u001b[0m in \u001b[0;36m<module>\u001b[0;34m\u001b[0m\n\u001b[1;32m      7\u001b[0m            \u001b[0mvalidation_data\u001b[0m\u001b[0;34m=\u001b[0m\u001b[0mvalidation_generator\u001b[0m\u001b[0;34m,\u001b[0m\u001b[0;34m\u001b[0m\u001b[0;34m\u001b[0m\u001b[0m\n\u001b[1;32m      8\u001b[0m            \u001b[0mverbose\u001b[0m\u001b[0;34m=\u001b[0m\u001b[0;36m1\u001b[0m\u001b[0;34m,\u001b[0m\u001b[0;34m\u001b[0m\u001b[0;34m\u001b[0m\u001b[0m\n\u001b[0;32m----> 9\u001b[0;31m            callbacks=[reduceLR])\n\u001b[0m\u001b[1;32m     10\u001b[0m \u001b[0;34m\u001b[0m\u001b[0m\n\u001b[1;32m     11\u001b[0m \u001b[0mmodel\u001b[0m\u001b[0;34m.\u001b[0m\u001b[0msave\u001b[0m\u001b[0;34m(\u001b[0m\u001b[0;34m'Models/Model_7.h5'\u001b[0m\u001b[0;34m)\u001b[0m\u001b[0;34m\u001b[0m\u001b[0;34m\u001b[0m\u001b[0m\n",
      "\u001b[0;32m~/anaconda3/lib/python3.7/site-packages/tensorflow/python/keras/engine/training.py\u001b[0m in \u001b[0;36m_method_wrapper\u001b[0;34m(self, *args, **kwargs)\u001b[0m\n\u001b[1;32m    106\u001b[0m   \u001b[0;32mdef\u001b[0m \u001b[0m_method_wrapper\u001b[0m\u001b[0;34m(\u001b[0m\u001b[0mself\u001b[0m\u001b[0;34m,\u001b[0m \u001b[0;34m*\u001b[0m\u001b[0margs\u001b[0m\u001b[0;34m,\u001b[0m \u001b[0;34m**\u001b[0m\u001b[0mkwargs\u001b[0m\u001b[0;34m)\u001b[0m\u001b[0;34m:\u001b[0m\u001b[0;34m\u001b[0m\u001b[0;34m\u001b[0m\u001b[0m\n\u001b[1;32m    107\u001b[0m     \u001b[0;32mif\u001b[0m \u001b[0;32mnot\u001b[0m \u001b[0mself\u001b[0m\u001b[0;34m.\u001b[0m\u001b[0m_in_multi_worker_mode\u001b[0m\u001b[0;34m(\u001b[0m\u001b[0;34m)\u001b[0m\u001b[0;34m:\u001b[0m  \u001b[0;31m# pylint: disable=protected-access\u001b[0m\u001b[0;34m\u001b[0m\u001b[0;34m\u001b[0m\u001b[0m\n\u001b[0;32m--> 108\u001b[0;31m       \u001b[0;32mreturn\u001b[0m \u001b[0mmethod\u001b[0m\u001b[0;34m(\u001b[0m\u001b[0mself\u001b[0m\u001b[0;34m,\u001b[0m \u001b[0;34m*\u001b[0m\u001b[0margs\u001b[0m\u001b[0;34m,\u001b[0m \u001b[0;34m**\u001b[0m\u001b[0mkwargs\u001b[0m\u001b[0;34m)\u001b[0m\u001b[0;34m\u001b[0m\u001b[0;34m\u001b[0m\u001b[0m\n\u001b[0m\u001b[1;32m    109\u001b[0m \u001b[0;34m\u001b[0m\u001b[0m\n\u001b[1;32m    110\u001b[0m     \u001b[0;31m# Running inside `run_distribute_coordinator` already.\u001b[0m\u001b[0;34m\u001b[0m\u001b[0;34m\u001b[0m\u001b[0;34m\u001b[0m\u001b[0m\n",
      "\u001b[0;32m~/anaconda3/lib/python3.7/site-packages/tensorflow/python/keras/engine/training.py\u001b[0m in \u001b[0;36mfit\u001b[0;34m(self, x, y, batch_size, epochs, verbose, callbacks, validation_split, validation_data, shuffle, class_weight, sample_weight, initial_epoch, steps_per_epoch, validation_steps, validation_batch_size, validation_freq, max_queue_size, workers, use_multiprocessing)\u001b[0m\n\u001b[1;32m   1096\u001b[0m                 batch_size=batch_size):\n\u001b[1;32m   1097\u001b[0m               \u001b[0mcallbacks\u001b[0m\u001b[0;34m.\u001b[0m\u001b[0mon_train_batch_begin\u001b[0m\u001b[0;34m(\u001b[0m\u001b[0mstep\u001b[0m\u001b[0;34m)\u001b[0m\u001b[0;34m\u001b[0m\u001b[0;34m\u001b[0m\u001b[0m\n\u001b[0;32m-> 1098\u001b[0;31m               \u001b[0mtmp_logs\u001b[0m \u001b[0;34m=\u001b[0m \u001b[0mtrain_function\u001b[0m\u001b[0;34m(\u001b[0m\u001b[0miterator\u001b[0m\u001b[0;34m)\u001b[0m\u001b[0;34m\u001b[0m\u001b[0;34m\u001b[0m\u001b[0m\n\u001b[0m\u001b[1;32m   1099\u001b[0m               \u001b[0;32mif\u001b[0m \u001b[0mdata_handler\u001b[0m\u001b[0;34m.\u001b[0m\u001b[0mshould_sync\u001b[0m\u001b[0;34m:\u001b[0m\u001b[0;34m\u001b[0m\u001b[0;34m\u001b[0m\u001b[0m\n\u001b[1;32m   1100\u001b[0m                 \u001b[0mcontext\u001b[0m\u001b[0;34m.\u001b[0m\u001b[0masync_wait\u001b[0m\u001b[0;34m(\u001b[0m\u001b[0;34m)\u001b[0m\u001b[0;34m\u001b[0m\u001b[0;34m\u001b[0m\u001b[0m\n",
      "\u001b[0;32m~/anaconda3/lib/python3.7/site-packages/tensorflow/python/eager/def_function.py\u001b[0m in \u001b[0;36m__call__\u001b[0;34m(self, *args, **kwds)\u001b[0m\n\u001b[1;32m    778\u001b[0m       \u001b[0;32melse\u001b[0m\u001b[0;34m:\u001b[0m\u001b[0;34m\u001b[0m\u001b[0;34m\u001b[0m\u001b[0m\n\u001b[1;32m    779\u001b[0m         \u001b[0mcompiler\u001b[0m \u001b[0;34m=\u001b[0m \u001b[0;34m\"nonXla\"\u001b[0m\u001b[0;34m\u001b[0m\u001b[0;34m\u001b[0m\u001b[0m\n\u001b[0;32m--> 780\u001b[0;31m         \u001b[0mresult\u001b[0m \u001b[0;34m=\u001b[0m \u001b[0mself\u001b[0m\u001b[0;34m.\u001b[0m\u001b[0m_call\u001b[0m\u001b[0;34m(\u001b[0m\u001b[0;34m*\u001b[0m\u001b[0margs\u001b[0m\u001b[0;34m,\u001b[0m \u001b[0;34m**\u001b[0m\u001b[0mkwds\u001b[0m\u001b[0;34m)\u001b[0m\u001b[0;34m\u001b[0m\u001b[0;34m\u001b[0m\u001b[0m\n\u001b[0m\u001b[1;32m    781\u001b[0m \u001b[0;34m\u001b[0m\u001b[0m\n\u001b[1;32m    782\u001b[0m       \u001b[0mnew_tracing_count\u001b[0m \u001b[0;34m=\u001b[0m \u001b[0mself\u001b[0m\u001b[0;34m.\u001b[0m\u001b[0m_get_tracing_count\u001b[0m\u001b[0;34m(\u001b[0m\u001b[0;34m)\u001b[0m\u001b[0;34m\u001b[0m\u001b[0;34m\u001b[0m\u001b[0m\n",
      "\u001b[0;32m~/anaconda3/lib/python3.7/site-packages/tensorflow/python/eager/def_function.py\u001b[0m in \u001b[0;36m_call\u001b[0;34m(self, *args, **kwds)\u001b[0m\n\u001b[1;32m    844\u001b[0m               *args, **kwds)\n\u001b[1;32m    845\u001b[0m       \u001b[0;31m# If we did not create any variables the trace we have is good enough.\u001b[0m\u001b[0;34m\u001b[0m\u001b[0;34m\u001b[0m\u001b[0;34m\u001b[0m\u001b[0m\n\u001b[0;32m--> 846\u001b[0;31m       \u001b[0;32mreturn\u001b[0m \u001b[0mself\u001b[0m\u001b[0;34m.\u001b[0m\u001b[0m_concrete_stateful_fn\u001b[0m\u001b[0;34m.\u001b[0m\u001b[0m_filtered_call\u001b[0m\u001b[0;34m(\u001b[0m\u001b[0mcanon_args\u001b[0m\u001b[0;34m,\u001b[0m \u001b[0mcanon_kwds\u001b[0m\u001b[0;34m)\u001b[0m  \u001b[0;31m# pylint: disable=protected-access\u001b[0m\u001b[0;34m\u001b[0m\u001b[0;34m\u001b[0m\u001b[0m\n\u001b[0m\u001b[1;32m    847\u001b[0m \u001b[0;34m\u001b[0m\u001b[0m\n\u001b[1;32m    848\u001b[0m     \u001b[0;32mdef\u001b[0m \u001b[0mfn_with_cond\u001b[0m\u001b[0;34m(\u001b[0m\u001b[0;34m*\u001b[0m\u001b[0minner_args\u001b[0m\u001b[0;34m,\u001b[0m \u001b[0;34m**\u001b[0m\u001b[0minner_kwds\u001b[0m\u001b[0;34m)\u001b[0m\u001b[0;34m:\u001b[0m\u001b[0;34m\u001b[0m\u001b[0;34m\u001b[0m\u001b[0m\n",
      "\u001b[0;32m~/anaconda3/lib/python3.7/site-packages/tensorflow/python/eager/function.py\u001b[0m in \u001b[0;36m_filtered_call\u001b[0;34m(self, args, kwargs, cancellation_manager)\u001b[0m\n\u001b[1;32m   1846\u001b[0m                            resource_variable_ops.BaseResourceVariable))],\n\u001b[1;32m   1847\u001b[0m         \u001b[0mcaptured_inputs\u001b[0m\u001b[0;34m=\u001b[0m\u001b[0mself\u001b[0m\u001b[0;34m.\u001b[0m\u001b[0mcaptured_inputs\u001b[0m\u001b[0;34m,\u001b[0m\u001b[0;34m\u001b[0m\u001b[0;34m\u001b[0m\u001b[0m\n\u001b[0;32m-> 1848\u001b[0;31m         cancellation_manager=cancellation_manager)\n\u001b[0m\u001b[1;32m   1849\u001b[0m \u001b[0;34m\u001b[0m\u001b[0m\n\u001b[1;32m   1850\u001b[0m   \u001b[0;32mdef\u001b[0m \u001b[0m_call_flat\u001b[0m\u001b[0;34m(\u001b[0m\u001b[0mself\u001b[0m\u001b[0;34m,\u001b[0m \u001b[0margs\u001b[0m\u001b[0;34m,\u001b[0m \u001b[0mcaptured_inputs\u001b[0m\u001b[0;34m,\u001b[0m \u001b[0mcancellation_manager\u001b[0m\u001b[0;34m=\u001b[0m\u001b[0;32mNone\u001b[0m\u001b[0;34m)\u001b[0m\u001b[0;34m:\u001b[0m\u001b[0;34m\u001b[0m\u001b[0;34m\u001b[0m\u001b[0m\n",
      "\u001b[0;32m~/anaconda3/lib/python3.7/site-packages/tensorflow/python/eager/function.py\u001b[0m in \u001b[0;36m_call_flat\u001b[0;34m(self, args, captured_inputs, cancellation_manager)\u001b[0m\n\u001b[1;32m   1922\u001b[0m       \u001b[0;31m# No tape is watching; skip to running the function.\u001b[0m\u001b[0;34m\u001b[0m\u001b[0;34m\u001b[0m\u001b[0;34m\u001b[0m\u001b[0m\n\u001b[1;32m   1923\u001b[0m       return self._build_call_outputs(self._inference_function.call(\n\u001b[0;32m-> 1924\u001b[0;31m           ctx, args, cancellation_manager=cancellation_manager))\n\u001b[0m\u001b[1;32m   1925\u001b[0m     forward_backward = self._select_forward_and_backward_functions(\n\u001b[1;32m   1926\u001b[0m         \u001b[0margs\u001b[0m\u001b[0;34m,\u001b[0m\u001b[0;34m\u001b[0m\u001b[0;34m\u001b[0m\u001b[0m\n",
      "\u001b[0;32m~/anaconda3/lib/python3.7/site-packages/tensorflow/python/eager/function.py\u001b[0m in \u001b[0;36mcall\u001b[0;34m(self, ctx, args, cancellation_manager)\u001b[0m\n\u001b[1;32m    548\u001b[0m               \u001b[0minputs\u001b[0m\u001b[0;34m=\u001b[0m\u001b[0margs\u001b[0m\u001b[0;34m,\u001b[0m\u001b[0;34m\u001b[0m\u001b[0;34m\u001b[0m\u001b[0m\n\u001b[1;32m    549\u001b[0m               \u001b[0mattrs\u001b[0m\u001b[0;34m=\u001b[0m\u001b[0mattrs\u001b[0m\u001b[0;34m,\u001b[0m\u001b[0;34m\u001b[0m\u001b[0;34m\u001b[0m\u001b[0m\n\u001b[0;32m--> 550\u001b[0;31m               ctx=ctx)\n\u001b[0m\u001b[1;32m    551\u001b[0m         \u001b[0;32melse\u001b[0m\u001b[0;34m:\u001b[0m\u001b[0;34m\u001b[0m\u001b[0;34m\u001b[0m\u001b[0m\n\u001b[1;32m    552\u001b[0m           outputs = execute.execute_with_cancellation(\n",
      "\u001b[0;32m~/anaconda3/lib/python3.7/site-packages/tensorflow/python/eager/execute.py\u001b[0m in \u001b[0;36mquick_execute\u001b[0;34m(op_name, num_outputs, inputs, attrs, ctx, name)\u001b[0m\n\u001b[1;32m     58\u001b[0m     \u001b[0mctx\u001b[0m\u001b[0;34m.\u001b[0m\u001b[0mensure_initialized\u001b[0m\u001b[0;34m(\u001b[0m\u001b[0;34m)\u001b[0m\u001b[0;34m\u001b[0m\u001b[0;34m\u001b[0m\u001b[0m\n\u001b[1;32m     59\u001b[0m     tensors = pywrap_tfe.TFE_Py_Execute(ctx._handle, device_name, op_name,\n\u001b[0;32m---> 60\u001b[0;31m                                         inputs, attrs, num_outputs)\n\u001b[0m\u001b[1;32m     61\u001b[0m   \u001b[0;32mexcept\u001b[0m \u001b[0mcore\u001b[0m\u001b[0;34m.\u001b[0m\u001b[0m_NotOkStatusException\u001b[0m \u001b[0;32mas\u001b[0m \u001b[0me\u001b[0m\u001b[0;34m:\u001b[0m\u001b[0;34m\u001b[0m\u001b[0;34m\u001b[0m\u001b[0m\n\u001b[1;32m     62\u001b[0m     \u001b[0;32mif\u001b[0m \u001b[0mname\u001b[0m \u001b[0;32mis\u001b[0m \u001b[0;32mnot\u001b[0m \u001b[0;32mNone\u001b[0m\u001b[0;34m:\u001b[0m\u001b[0;34m\u001b[0m\u001b[0;34m\u001b[0m\u001b[0m\n",
      "\u001b[0;31mResourceExhaustedError\u001b[0m:  OOM when allocating tensor with shape[256,512,32,32] and type float on /job:localhost/replica:0/task:0/device:GPU:0 by allocator GPU_0_bfc\n\t [[node model_1/conv2d_24/Conv2D (defined at <ipython-input-15-868754b6ac1d>:9) ]]\nHint: If you want to see a list of allocated tensors when OOM happens, add report_tensor_allocations_upon_oom to RunOptions for current allocation info.\n [Op:__inference_train_function_5504]\n\nFunction call stack:\ntrain_function\n"
     ]
    }
   ],
   "source": [
    "model = load_model('Models/Model_6.h5')\n",
    "\n",
    "model.fit(train_generator, \n",
    "           epochs=5, \n",
    "           steps_per_epoch=train_generator.n // train_generator.batch_size, \n",
    "           validation_steps=validation_generator.n // validation_generator.batch_size, \n",
    "           validation_data=validation_generator, \n",
    "           verbose=1, \n",
    "           callbacks=[reduceLR])\n",
    "\n",
    "model.save('Models/Model_7.h5')"
   ]
  },
  {
   "cell_type": "code",
   "execution_count": null,
   "metadata": {},
   "outputs": [],
   "source": [
    "model.predict(\n",
    "    train_generator, batch_size=None\n",
    ")"
   ]
  },
  {
   "cell_type": "markdown",
   "metadata": {
    "id": "gC1i_tK4L3Z8"
   },
   "source": [
    "# Resources\n",
    "\n",
    "\"Space-to-depth\" implementation\n",
    "\n",
    "https://www.tensorflow.org/api_docs/python/tf/nn/space_to_depth\n",
    "\n",
    "For loading data\n",
    "\n",
    "https://keras.io/api/preprocessing/image/#imagedatagenerator-class\n",
    "\n",
    "Regularizers (For Network 2)\n",
    "\n",
    "https://keras.io/api/layers/regularizers/"
   ]
  },
  {
   "cell_type": "code",
   "execution_count": null,
   "metadata": {},
   "outputs": [],
   "source": []
  }
 ],
 "metadata": {
  "colab": {
   "authorship_tag": "ABX9TyMaepXfmU/bjQ9LnSN0BB4G",
   "collapsed_sections": [],
   "name": "Final Project.ipynb",
   "provenance": []
  },
  "kernelspec": {
   "display_name": "Python 3",
   "language": "python",
   "name": "python3"
  },
  "language_info": {
   "codemirror_mode": {
    "name": "ipython",
    "version": 3
   },
   "file_extension": ".py",
   "mimetype": "text/x-python",
   "name": "python",
   "nbconvert_exporter": "python",
   "pygments_lexer": "ipython3",
   "version": "3.7.6"
  }
 },
 "nbformat": 4,
 "nbformat_minor": 4
}
